{
 "cells": [
  {
   "cell_type": "code",
   "execution_count": null,
   "metadata": {},
   "outputs": [],
   "source": [
    "import pandas as pd\n",
    "import numpy as np\n",
    "import matplotlib.pyplot as plt\n",
    "from statsmodels.tsa.statespace.sarimax import SARIMAX\n",
    "from statsmodels.graphics.tsaplots import plot_acf, plot_pacf\n",
    "\n",
    "data = pd.read_csv('Sunspots.csv')\n",
    "data['Date'] = pd.to_datetime(data['Date'])\n",
    "data.set_index('Date', inplace=True)\n",
    "sunspot_series = data['Monthly Mean Total Sunspot Number']\n",
    "\n",
    "plot_acf(sunspot_series, lags=40)\n",
    "plot_pacf(sunspot_series, lags=40)\n",
    "plt.show()\n",
    "\n",
    "p, d, q = 1, 1, 1\n",
    "P, D, Q, S = 1, 1, 1, 12\n",
    "\n",
    "sarima_model = SARIMAX(sunspot_series, order=(p, d, q), seasonal_order=(P, D, Q, S))\n",
    "sarima_result = sarima_model.fit()\n",
    "\n",
    "forecasted = sarima_result.get_prediction(start=pd.to_datetime('YYYY-MM-DD'), end=pd.to_datetime('YYYY-MM-DD'))\n",
    "forecasted_mean = forecasted.predicted_mean\n",
    "confidence_interval = forecasted.conf_int()\n",
    "\n",
    "plt.figure(figsize=(12, 6))\n",
    "plt.plot(sunspot_series, label='Observed')\n",
    "plt.plot(forecasted_mean, color='red', label='Forecast')\n",
    "plt.fill_between(confidence_interval.index, confidence_interval.iloc[:, 0], confidence_interval.iloc[:, 1], color='pink')\n",
    "plt.xlabel('Date')\n",
    "plt.ylabel('Sunspot Activity')\n",
    "plt.legend()\n",
    "plt.show()\n",
    "\n",
    "forecast_horizon = 12\n",
    "forecast = sarima_result.get_forecast(steps=forecast_horizon)\n",
    "\n",
    "print(forecast.predicted_mean)"
   ]
  }
 ],
 "metadata": {
  "kernelspec": {
   "display_name": "Python 3",
   "language": "python",
   "name": "python3"
  },
  "language_info": {
   "name": "python",
   "version": "3.8.3"
  }
 },
 "nbformat": 4,
 "nbformat_minor": 2
}
